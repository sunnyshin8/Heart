{
  "nbformat": 4,
  "nbformat_minor": 0,
  "metadata": {
    "colab": {
      "provenance": []
    },
    "kernelspec": {
      "name": "python3",
      "display_name": "Python 3"
    },
    "language_info": {
      "name": "python"
    }
  },
  "cells": [
    {
      "cell_type": "code",
      "execution_count": null,
      "metadata": {
        "id": "XBWONaNHV_Or"
      },
      "outputs": [],
      "source": [
        "import tensorflow as tf\n",
        "import numpy as np\n",
        "import pandas as pd"
      ]
    },
    {
      "cell_type": "code",
      "source": [
        "df = pd.read_csv(\"heart_cancer.csv\")"
      ],
      "metadata": {
        "id": "hrvfVA6PXgli"
      },
      "execution_count": null,
      "outputs": []
    },
    {
      "cell_type": "code",
      "source": [
        "df.head()"
      ],
      "metadata": {
        "colab": {
          "base_uri": "https://localhost:8080/",
          "height": 287
        },
        "id": "XN9RjJgLYGjy",
        "outputId": "ad1fdd69-1b7f-4057-a2c8-a19e59883a65"
      },
      "execution_count": null,
      "outputs": [
        {
          "output_type": "execute_result",
          "data": {
            "text/plain": [
              "   Unnamed: 0  Age  Sex  ChestPainType  RestingBP  Cholesterol  FastingBS  \\\n",
              "0           0   40    1              1        140          289          0   \n",
              "1           1   49    0              2        160          180          0   \n",
              "2           2   37    1              1        130          283          0   \n",
              "3           3   48    0              0        138          214          0   \n",
              "4           4   54    1              2        150          195          0   \n",
              "\n",
              "   RestingECG  MaxHR  ExerciseAngina  Oldpeak  ST_Slope  HeartDisease  \n",
              "0           1    172               0      0.0         2             0  \n",
              "1           1    156               0      1.0         1             1  \n",
              "2           2     98               0      0.0         2             0  \n",
              "3           1    108               1      1.5         1             1  \n",
              "4           1    122               0      0.0         2             0  "
            ],
            "text/html": [
              "\n",
              "\n",
              "  <div id=\"df-10159539-f680-46a7-8ba5-ff53cd5703ee\">\n",
              "    <div class=\"colab-df-container\">\n",
              "      <div>\n",
              "<style scoped>\n",
              "    .dataframe tbody tr th:only-of-type {\n",
              "        vertical-align: middle;\n",
              "    }\n",
              "\n",
              "    .dataframe tbody tr th {\n",
              "        vertical-align: top;\n",
              "    }\n",
              "\n",
              "    .dataframe thead th {\n",
              "        text-align: right;\n",
              "    }\n",
              "</style>\n",
              "<table border=\"1\" class=\"dataframe\">\n",
              "  <thead>\n",
              "    <tr style=\"text-align: right;\">\n",
              "      <th></th>\n",
              "      <th>Unnamed: 0</th>\n",
              "      <th>Age</th>\n",
              "      <th>Sex</th>\n",
              "      <th>ChestPainType</th>\n",
              "      <th>RestingBP</th>\n",
              "      <th>Cholesterol</th>\n",
              "      <th>FastingBS</th>\n",
              "      <th>RestingECG</th>\n",
              "      <th>MaxHR</th>\n",
              "      <th>ExerciseAngina</th>\n",
              "      <th>Oldpeak</th>\n",
              "      <th>ST_Slope</th>\n",
              "      <th>HeartDisease</th>\n",
              "    </tr>\n",
              "  </thead>\n",
              "  <tbody>\n",
              "    <tr>\n",
              "      <th>0</th>\n",
              "      <td>0</td>\n",
              "      <td>40</td>\n",
              "      <td>1</td>\n",
              "      <td>1</td>\n",
              "      <td>140</td>\n",
              "      <td>289</td>\n",
              "      <td>0</td>\n",
              "      <td>1</td>\n",
              "      <td>172</td>\n",
              "      <td>0</td>\n",
              "      <td>0.0</td>\n",
              "      <td>2</td>\n",
              "      <td>0</td>\n",
              "    </tr>\n",
              "    <tr>\n",
              "      <th>1</th>\n",
              "      <td>1</td>\n",
              "      <td>49</td>\n",
              "      <td>0</td>\n",
              "      <td>2</td>\n",
              "      <td>160</td>\n",
              "      <td>180</td>\n",
              "      <td>0</td>\n",
              "      <td>1</td>\n",
              "      <td>156</td>\n",
              "      <td>0</td>\n",
              "      <td>1.0</td>\n",
              "      <td>1</td>\n",
              "      <td>1</td>\n",
              "    </tr>\n",
              "    <tr>\n",
              "      <th>2</th>\n",
              "      <td>2</td>\n",
              "      <td>37</td>\n",
              "      <td>1</td>\n",
              "      <td>1</td>\n",
              "      <td>130</td>\n",
              "      <td>283</td>\n",
              "      <td>0</td>\n",
              "      <td>2</td>\n",
              "      <td>98</td>\n",
              "      <td>0</td>\n",
              "      <td>0.0</td>\n",
              "      <td>2</td>\n",
              "      <td>0</td>\n",
              "    </tr>\n",
              "    <tr>\n",
              "      <th>3</th>\n",
              "      <td>3</td>\n",
              "      <td>48</td>\n",
              "      <td>0</td>\n",
              "      <td>0</td>\n",
              "      <td>138</td>\n",
              "      <td>214</td>\n",
              "      <td>0</td>\n",
              "      <td>1</td>\n",
              "      <td>108</td>\n",
              "      <td>1</td>\n",
              "      <td>1.5</td>\n",
              "      <td>1</td>\n",
              "      <td>1</td>\n",
              "    </tr>\n",
              "    <tr>\n",
              "      <th>4</th>\n",
              "      <td>4</td>\n",
              "      <td>54</td>\n",
              "      <td>1</td>\n",
              "      <td>2</td>\n",
              "      <td>150</td>\n",
              "      <td>195</td>\n",
              "      <td>0</td>\n",
              "      <td>1</td>\n",
              "      <td>122</td>\n",
              "      <td>0</td>\n",
              "      <td>0.0</td>\n",
              "      <td>2</td>\n",
              "      <td>0</td>\n",
              "    </tr>\n",
              "  </tbody>\n",
              "</table>\n",
              "</div>\n",
              "      <button class=\"colab-df-convert\" onclick=\"convertToInteractive('df-10159539-f680-46a7-8ba5-ff53cd5703ee')\"\n",
              "              title=\"Convert this dataframe to an interactive table.\"\n",
              "              style=\"display:none;\">\n",
              "\n",
              "  <svg xmlns=\"http://www.w3.org/2000/svg\" height=\"24px\"viewBox=\"0 0 24 24\"\n",
              "       width=\"24px\">\n",
              "    <path d=\"M0 0h24v24H0V0z\" fill=\"none\"/>\n",
              "    <path d=\"M18.56 5.44l.94 2.06.94-2.06 2.06-.94-2.06-.94-.94-2.06-.94 2.06-2.06.94zm-11 1L8.5 8.5l.94-2.06 2.06-.94-2.06-.94L8.5 2.5l-.94 2.06-2.06.94zm10 10l.94 2.06.94-2.06 2.06-.94-2.06-.94-.94-2.06-.94 2.06-2.06.94z\"/><path d=\"M17.41 7.96l-1.37-1.37c-.4-.4-.92-.59-1.43-.59-.52 0-1.04.2-1.43.59L10.3 9.45l-7.72 7.72c-.78.78-.78 2.05 0 2.83L4 21.41c.39.39.9.59 1.41.59.51 0 1.02-.2 1.41-.59l7.78-7.78 2.81-2.81c.8-.78.8-2.07 0-2.86zM5.41 20L4 18.59l7.72-7.72 1.47 1.35L5.41 20z\"/>\n",
              "  </svg>\n",
              "      </button>\n",
              "\n",
              "\n",
              "\n",
              "    <div id=\"df-198dd108-bd8b-40e8-836b-cf19a8903d50\">\n",
              "      <button class=\"colab-df-quickchart\" onclick=\"quickchart('df-198dd108-bd8b-40e8-836b-cf19a8903d50')\"\n",
              "              title=\"Suggest charts.\"\n",
              "              style=\"display:none;\">\n",
              "\n",
              "<svg xmlns=\"http://www.w3.org/2000/svg\" height=\"24px\"viewBox=\"0 0 24 24\"\n",
              "     width=\"24px\">\n",
              "    <g>\n",
              "        <path d=\"M19 3H5c-1.1 0-2 .9-2 2v14c0 1.1.9 2 2 2h14c1.1 0 2-.9 2-2V5c0-1.1-.9-2-2-2zM9 17H7v-7h2v7zm4 0h-2V7h2v10zm4 0h-2v-4h2v4z\"/>\n",
              "    </g>\n",
              "</svg>\n",
              "      </button>\n",
              "    </div>\n",
              "\n",
              "<style>\n",
              "  .colab-df-quickchart {\n",
              "    background-color: #E8F0FE;\n",
              "    border: none;\n",
              "    border-radius: 50%;\n",
              "    cursor: pointer;\n",
              "    display: none;\n",
              "    fill: #1967D2;\n",
              "    height: 32px;\n",
              "    padding: 0 0 0 0;\n",
              "    width: 32px;\n",
              "  }\n",
              "\n",
              "  .colab-df-quickchart:hover {\n",
              "    background-color: #E2EBFA;\n",
              "    box-shadow: 0px 1px 2px rgba(60, 64, 67, 0.3), 0px 1px 3px 1px rgba(60, 64, 67, 0.15);\n",
              "    fill: #174EA6;\n",
              "  }\n",
              "\n",
              "  [theme=dark] .colab-df-quickchart {\n",
              "    background-color: #3B4455;\n",
              "    fill: #D2E3FC;\n",
              "  }\n",
              "\n",
              "  [theme=dark] .colab-df-quickchart:hover {\n",
              "    background-color: #434B5C;\n",
              "    box-shadow: 0px 1px 3px 1px rgba(0, 0, 0, 0.15);\n",
              "    filter: drop-shadow(0px 1px 2px rgba(0, 0, 0, 0.3));\n",
              "    fill: #FFFFFF;\n",
              "  }\n",
              "</style>\n",
              "\n",
              "    <script>\n",
              "      async function quickchart(key) {\n",
              "        const containerElement = document.querySelector('#' + key);\n",
              "        const charts = await google.colab.kernel.invokeFunction(\n",
              "            'suggestCharts', [key], {});\n",
              "      }\n",
              "    </script>\n",
              "\n",
              "      <script>\n",
              "\n",
              "function displayQuickchartButton(domScope) {\n",
              "  let quickchartButtonEl =\n",
              "    domScope.querySelector('#df-198dd108-bd8b-40e8-836b-cf19a8903d50 button.colab-df-quickchart');\n",
              "  quickchartButtonEl.style.display =\n",
              "    google.colab.kernel.accessAllowed ? 'block' : 'none';\n",
              "}\n",
              "\n",
              "        displayQuickchartButton(document);\n",
              "      </script>\n",
              "      <style>\n",
              "    .colab-df-container {\n",
              "      display:flex;\n",
              "      flex-wrap:wrap;\n",
              "      gap: 12px;\n",
              "    }\n",
              "\n",
              "    .colab-df-convert {\n",
              "      background-color: #E8F0FE;\n",
              "      border: none;\n",
              "      border-radius: 50%;\n",
              "      cursor: pointer;\n",
              "      display: none;\n",
              "      fill: #1967D2;\n",
              "      height: 32px;\n",
              "      padding: 0 0 0 0;\n",
              "      width: 32px;\n",
              "    }\n",
              "\n",
              "    .colab-df-convert:hover {\n",
              "      background-color: #E2EBFA;\n",
              "      box-shadow: 0px 1px 2px rgba(60, 64, 67, 0.3), 0px 1px 3px 1px rgba(60, 64, 67, 0.15);\n",
              "      fill: #174EA6;\n",
              "    }\n",
              "\n",
              "    [theme=dark] .colab-df-convert {\n",
              "      background-color: #3B4455;\n",
              "      fill: #D2E3FC;\n",
              "    }\n",
              "\n",
              "    [theme=dark] .colab-df-convert:hover {\n",
              "      background-color: #434B5C;\n",
              "      box-shadow: 0px 1px 3px 1px rgba(0, 0, 0, 0.15);\n",
              "      filter: drop-shadow(0px 1px 2px rgba(0, 0, 0, 0.3));\n",
              "      fill: #FFFFFF;\n",
              "    }\n",
              "  </style>\n",
              "\n",
              "      <script>\n",
              "        const buttonEl =\n",
              "          document.querySelector('#df-10159539-f680-46a7-8ba5-ff53cd5703ee button.colab-df-convert');\n",
              "        buttonEl.style.display =\n",
              "          google.colab.kernel.accessAllowed ? 'block' : 'none';\n",
              "\n",
              "        async function convertToInteractive(key) {\n",
              "          const element = document.querySelector('#df-10159539-f680-46a7-8ba5-ff53cd5703ee');\n",
              "          const dataTable =\n",
              "            await google.colab.kernel.invokeFunction('convertToInteractive',\n",
              "                                                     [key], {});\n",
              "          if (!dataTable) return;\n",
              "\n",
              "          const docLinkHtml = 'Like what you see? Visit the ' +\n",
              "            '<a target=\"_blank\" href=https://colab.research.google.com/notebooks/data_table.ipynb>data table notebook</a>'\n",
              "            + ' to learn more about interactive tables.';\n",
              "          element.innerHTML = '';\n",
              "          dataTable['output_type'] = 'display_data';\n",
              "          await google.colab.output.renderOutput(dataTable, element);\n",
              "          const docLink = document.createElement('div');\n",
              "          docLink.innerHTML = docLinkHtml;\n",
              "          element.appendChild(docLink);\n",
              "        }\n",
              "      </script>\n",
              "    </div>\n",
              "  </div>\n"
            ]
          },
          "metadata": {},
          "execution_count": 83
        }
      ]
    },
    {
      "cell_type": "code",
      "source": [
        "df.shape"
      ],
      "metadata": {
        "colab": {
          "base_uri": "https://localhost:8080/"
        },
        "id": "byeIzdQsYLOP",
        "outputId": "629b3742-362b-4b96-bda7-3c2c1a15619a"
      },
      "execution_count": null,
      "outputs": [
        {
          "output_type": "execute_result",
          "data": {
            "text/plain": [
              "(918, 13)"
            ]
          },
          "metadata": {},
          "execution_count": 84
        }
      ]
    },
    {
      "cell_type": "code",
      "source": [
        "df = df.drop_duplicates()"
      ],
      "metadata": {
        "id": "o66ziUYCYMVP"
      },
      "execution_count": null,
      "outputs": []
    },
    {
      "cell_type": "code",
      "source": [
        "df.shape"
      ],
      "metadata": {
        "colab": {
          "base_uri": "https://localhost:8080/"
        },
        "id": "aatjiNFCYUB7",
        "outputId": "b58f0efb-4380-47d8-ed8c-0c088c549b2a"
      },
      "execution_count": null,
      "outputs": [
        {
          "output_type": "execute_result",
          "data": {
            "text/plain": [
              "(918, 13)"
            ]
          },
          "metadata": {},
          "execution_count": 86
        }
      ]
    },
    {
      "cell_type": "code",
      "source": [
        "df.info()"
      ],
      "metadata": {
        "id": "vcIOsuu6YVjw"
      },
      "execution_count": null,
      "outputs": []
    },
    {
      "cell_type": "code",
      "source": [
        "X = df.drop(['Unnamed: 0','HeartDisease'], axis= 1).values\n",
        "Y = df['HeartDisease'].values"
      ],
      "metadata": {
        "id": "PxeumcKddt29"
      },
      "execution_count": null,
      "outputs": []
    },
    {
      "cell_type": "code",
      "source": [
        "from sklearn.preprocessing import StandardScaler"
      ],
      "metadata": {
        "id": "MCm13qCnVHXJ"
      },
      "execution_count": null,
      "outputs": []
    },
    {
      "cell_type": "code",
      "source": [
        "from sklearn.model_selection import train_test_split\n",
        "X_train, X_test, Y_train, Y_test = train_test_split(X,Y,test_size=0.3, random_state=42) #for splitting the dataset randomly."
      ],
      "metadata": {
        "id": "qrlcQ41h7EGN"
      },
      "execution_count": null,
      "outputs": []
    },
    {
      "cell_type": "code",
      "source": [
        "sc = StandardScaler() #used for scaling the features in the dataset(X).\n",
        "X_train = sc.fit_transform(X_train)\n",
        "X_test = sc.fit_transform(X_test)"
      ],
      "metadata": {
        "id": "EGke-6Yf9MYV"
      },
      "execution_count": null,
      "outputs": []
    },
    {
      "cell_type": "code",
      "source": [
        "X_train.shape"
      ],
      "metadata": {
        "colab": {
          "base_uri": "https://localhost:8080/"
        },
        "id": "KZLNzKCz7bWW",
        "outputId": "88177116-bfeb-4e18-a155-d9303317feaf"
      },
      "execution_count": null,
      "outputs": [
        {
          "output_type": "execute_result",
          "data": {
            "text/plain": [
              "(642, 11)"
            ]
          },
          "metadata": {},
          "execution_count": 130
        }
      ]
    },
    {
      "cell_type": "code",
      "source": [
        "X #printing the extracted features"
      ],
      "metadata": {
        "colab": {
          "base_uri": "https://localhost:8080/"
        },
        "id": "A1_yU3WhVJ2H",
        "outputId": "d3bd9163-59fd-47e4-f251-ec10989a3299"
      },
      "execution_count": null,
      "outputs": [
        {
          "output_type": "execute_result",
          "data": {
            "text/plain": [
              "array([[40. ,  1. ,  1. , ...,  0. ,  0. ,  2. ],\n",
              "       [49. ,  0. ,  2. , ...,  0. ,  1. ,  1. ],\n",
              "       [37. ,  1. ,  1. , ...,  0. ,  0. ,  2. ],\n",
              "       ...,\n",
              "       [57. ,  1. ,  0. , ...,  1. ,  1.2,  1. ],\n",
              "       [57. ,  0. ,  1. , ...,  0. ,  0. ,  1. ],\n",
              "       [38. ,  1. ,  2. , ...,  0. ,  0. ,  2. ]])"
            ]
          },
          "metadata": {},
          "execution_count": 131
        }
      ]
    },
    {
      "cell_type": "code",
      "source": [
        "#for defining the neural network\n",
        "model = tf.keras.Sequential([\n",
        "    tf.keras.layers.Dense(16, activation='relu', input_shape=(X_train.shape[1],)),\n",
        "    tf.keras.layers.Dense(8, activation='relu'),\n",
        "    tf.keras.layers.Dense(1, activation='sigmoid')\n",
        "])\n",
        "model.compile(optimizer='adam', loss='binary_crossentropy', metrics=['accuracy'])\n",
        "\n",
        "num_epochs = 75\n",
        "batch_size = 16\n",
        "model.fit(X_train, Y_train, epochs=num_epochs, batch_size=batch_size, verbose=1)\n",
        "\n",
        "\n",
        "loss, accuracy = model.evaluate(X_test, Y_test, verbose=0)\n",
        "print(f'Test loss: {loss:.4f}, Test accuracy: {accuracy:.4f}')\n"
      ],
      "metadata": {
        "id": "VuAltqeMXfCC",
        "colab": {
          "base_uri": "https://localhost:8080/"
        },
        "outputId": "bf9ffa43-8240-4441-db14-ea1366c484a9"
      },
      "execution_count": null,
      "outputs": [
        {
          "output_type": "stream",
          "name": "stdout",
          "text": [
            "Epoch 1/75\n",
            "41/41 [==============================] - 1s 2ms/step - loss: 0.6466 - accuracy: 0.6807\n",
            "Epoch 2/75\n",
            "41/41 [==============================] - 0s 2ms/step - loss: 0.5679 - accuracy: 0.7960\n",
            "Epoch 3/75\n",
            "41/41 [==============================] - 0s 2ms/step - loss: 0.4983 - accuracy: 0.8162\n",
            "Epoch 4/75\n",
            "41/41 [==============================] - 0s 3ms/step - loss: 0.4457 - accuracy: 0.8396\n",
            "Epoch 5/75\n",
            "41/41 [==============================] - 0s 2ms/step - loss: 0.4108 - accuracy: 0.8396\n",
            "Epoch 6/75\n",
            "41/41 [==============================] - 0s 3ms/step - loss: 0.3893 - accuracy: 0.8458\n",
            "Epoch 7/75\n",
            "41/41 [==============================] - 0s 3ms/step - loss: 0.3760 - accuracy: 0.8505\n",
            "Epoch 8/75\n",
            "41/41 [==============================] - 0s 3ms/step - loss: 0.3674 - accuracy: 0.8489\n",
            "Epoch 9/75\n",
            "41/41 [==============================] - 0s 2ms/step - loss: 0.3622 - accuracy: 0.8567\n",
            "Epoch 10/75\n",
            "41/41 [==============================] - 0s 2ms/step - loss: 0.3551 - accuracy: 0.8629\n",
            "Epoch 11/75\n",
            "41/41 [==============================] - 0s 3ms/step - loss: 0.3511 - accuracy: 0.8645\n",
            "Epoch 12/75\n",
            "41/41 [==============================] - 0s 3ms/step - loss: 0.3459 - accuracy: 0.8660\n",
            "Epoch 13/75\n",
            "41/41 [==============================] - 0s 3ms/step - loss: 0.3426 - accuracy: 0.8676\n",
            "Epoch 14/75\n",
            "41/41 [==============================] - 0s 2ms/step - loss: 0.3404 - accuracy: 0.8676\n",
            "Epoch 15/75\n",
            "41/41 [==============================] - 0s 3ms/step - loss: 0.3350 - accuracy: 0.8676\n",
            "Epoch 16/75\n",
            "41/41 [==============================] - 0s 3ms/step - loss: 0.3328 - accuracy: 0.8660\n",
            "Epoch 17/75\n",
            "41/41 [==============================] - 0s 3ms/step - loss: 0.3300 - accuracy: 0.8676\n",
            "Epoch 18/75\n",
            "41/41 [==============================] - 0s 2ms/step - loss: 0.3270 - accuracy: 0.8676\n",
            "Epoch 19/75\n",
            "41/41 [==============================] - 0s 2ms/step - loss: 0.3246 - accuracy: 0.8660\n",
            "Epoch 20/75\n",
            "41/41 [==============================] - 0s 3ms/step - loss: 0.3218 - accuracy: 0.8660\n",
            "Epoch 21/75\n",
            "41/41 [==============================] - 0s 2ms/step - loss: 0.3197 - accuracy: 0.8660\n",
            "Epoch 22/75\n",
            "41/41 [==============================] - 0s 3ms/step - loss: 0.3176 - accuracy: 0.8660\n",
            "Epoch 23/75\n",
            "41/41 [==============================] - 0s 2ms/step - loss: 0.3151 - accuracy: 0.8707\n",
            "Epoch 24/75\n",
            "41/41 [==============================] - 0s 3ms/step - loss: 0.3142 - accuracy: 0.8707\n",
            "Epoch 25/75\n",
            "41/41 [==============================] - 0s 2ms/step - loss: 0.3120 - accuracy: 0.8707\n",
            "Epoch 26/75\n",
            "41/41 [==============================] - 0s 2ms/step - loss: 0.3101 - accuracy: 0.8723\n",
            "Epoch 27/75\n",
            "41/41 [==============================] - 0s 3ms/step - loss: 0.3080 - accuracy: 0.8723\n",
            "Epoch 28/75\n",
            "41/41 [==============================] - 0s 3ms/step - loss: 0.3064 - accuracy: 0.8707\n",
            "Epoch 29/75\n",
            "41/41 [==============================] - 0s 2ms/step - loss: 0.3046 - accuracy: 0.8723\n",
            "Epoch 30/75\n",
            "41/41 [==============================] - 0s 3ms/step - loss: 0.3030 - accuracy: 0.8785\n",
            "Epoch 31/75\n",
            "41/41 [==============================] - 0s 2ms/step - loss: 0.3014 - accuracy: 0.8738\n",
            "Epoch 32/75\n",
            "41/41 [==============================] - 0s 2ms/step - loss: 0.2991 - accuracy: 0.8738\n",
            "Epoch 33/75\n",
            "41/41 [==============================] - 0s 2ms/step - loss: 0.2976 - accuracy: 0.8723\n",
            "Epoch 34/75\n",
            "41/41 [==============================] - 0s 2ms/step - loss: 0.2960 - accuracy: 0.8707\n",
            "Epoch 35/75\n",
            "41/41 [==============================] - 0s 2ms/step - loss: 0.2942 - accuracy: 0.8754\n",
            "Epoch 36/75\n",
            "41/41 [==============================] - 0s 2ms/step - loss: 0.2931 - accuracy: 0.8754\n",
            "Epoch 37/75\n",
            "41/41 [==============================] - 0s 2ms/step - loss: 0.2932 - accuracy: 0.8707\n",
            "Epoch 38/75\n",
            "41/41 [==============================] - 0s 2ms/step - loss: 0.2904 - accuracy: 0.8754\n",
            "Epoch 39/75\n",
            "41/41 [==============================] - 0s 2ms/step - loss: 0.2889 - accuracy: 0.8754\n",
            "Epoch 40/75\n",
            "41/41 [==============================] - 0s 2ms/step - loss: 0.2877 - accuracy: 0.8769\n",
            "Epoch 41/75\n",
            "41/41 [==============================] - 0s 2ms/step - loss: 0.2871 - accuracy: 0.8785\n",
            "Epoch 42/75\n",
            "41/41 [==============================] - 0s 2ms/step - loss: 0.2854 - accuracy: 0.8738\n",
            "Epoch 43/75\n",
            "41/41 [==============================] - 0s 2ms/step - loss: 0.2846 - accuracy: 0.8692\n",
            "Epoch 44/75\n",
            "41/41 [==============================] - 0s 2ms/step - loss: 0.2826 - accuracy: 0.8738\n",
            "Epoch 45/75\n",
            "41/41 [==============================] - 0s 2ms/step - loss: 0.2821 - accuracy: 0.8816\n",
            "Epoch 46/75\n",
            "41/41 [==============================] - 0s 2ms/step - loss: 0.2800 - accuracy: 0.8769\n",
            "Epoch 47/75\n",
            "41/41 [==============================] - 0s 2ms/step - loss: 0.2787 - accuracy: 0.8754\n",
            "Epoch 48/75\n",
            "41/41 [==============================] - 0s 2ms/step - loss: 0.2776 - accuracy: 0.8879\n",
            "Epoch 49/75\n",
            "41/41 [==============================] - 0s 2ms/step - loss: 0.2769 - accuracy: 0.8832\n",
            "Epoch 50/75\n",
            "41/41 [==============================] - 0s 2ms/step - loss: 0.2758 - accuracy: 0.8832\n",
            "Epoch 51/75\n",
            "41/41 [==============================] - 0s 2ms/step - loss: 0.2749 - accuracy: 0.8816\n",
            "Epoch 52/75\n",
            "41/41 [==============================] - 0s 2ms/step - loss: 0.2733 - accuracy: 0.8879\n",
            "Epoch 53/75\n",
            "41/41 [==============================] - 0s 2ms/step - loss: 0.2741 - accuracy: 0.8879\n",
            "Epoch 54/75\n",
            "41/41 [==============================] - 0s 2ms/step - loss: 0.2730 - accuracy: 0.8785\n",
            "Epoch 55/75\n",
            "41/41 [==============================] - 0s 2ms/step - loss: 0.2713 - accuracy: 0.8863\n",
            "Epoch 56/75\n",
            "41/41 [==============================] - 0s 2ms/step - loss: 0.2704 - accuracy: 0.8894\n",
            "Epoch 57/75\n",
            "41/41 [==============================] - 0s 2ms/step - loss: 0.2687 - accuracy: 0.8879\n",
            "Epoch 58/75\n",
            "41/41 [==============================] - 0s 2ms/step - loss: 0.2678 - accuracy: 0.8894\n",
            "Epoch 59/75\n",
            "41/41 [==============================] - 0s 2ms/step - loss: 0.2674 - accuracy: 0.8879\n",
            "Epoch 60/75\n",
            "41/41 [==============================] - 0s 2ms/step - loss: 0.2670 - accuracy: 0.8879\n",
            "Epoch 61/75\n",
            "41/41 [==============================] - 0s 2ms/step - loss: 0.2650 - accuracy: 0.8925\n",
            "Epoch 62/75\n",
            "41/41 [==============================] - 0s 2ms/step - loss: 0.2651 - accuracy: 0.8910\n",
            "Epoch 63/75\n",
            "41/41 [==============================] - 0s 2ms/step - loss: 0.2650 - accuracy: 0.8910\n",
            "Epoch 64/75\n",
            "41/41 [==============================] - 0s 2ms/step - loss: 0.2627 - accuracy: 0.8956\n",
            "Epoch 65/75\n",
            "41/41 [==============================] - 0s 2ms/step - loss: 0.2631 - accuracy: 0.8941\n",
            "Epoch 66/75\n",
            "41/41 [==============================] - 0s 2ms/step - loss: 0.2649 - accuracy: 0.8925\n",
            "Epoch 67/75\n",
            "41/41 [==============================] - 0s 2ms/step - loss: 0.2613 - accuracy: 0.8925\n",
            "Epoch 68/75\n",
            "41/41 [==============================] - 0s 2ms/step - loss: 0.2595 - accuracy: 0.8988\n",
            "Epoch 69/75\n",
            "41/41 [==============================] - 0s 2ms/step - loss: 0.2578 - accuracy: 0.8941\n",
            "Epoch 70/75\n",
            "41/41 [==============================] - 0s 2ms/step - loss: 0.2569 - accuracy: 0.8941\n",
            "Epoch 71/75\n",
            "41/41 [==============================] - 0s 2ms/step - loss: 0.2567 - accuracy: 0.8941\n",
            "Epoch 72/75\n",
            "41/41 [==============================] - 0s 2ms/step - loss: 0.2553 - accuracy: 0.8941\n",
            "Epoch 73/75\n",
            "41/41 [==============================] - 0s 2ms/step - loss: 0.2543 - accuracy: 0.8941\n",
            "Epoch 74/75\n",
            "41/41 [==============================] - 0s 2ms/step - loss: 0.2533 - accuracy: 0.8972\n",
            "Epoch 75/75\n",
            "41/41 [==============================] - 0s 2ms/step - loss: 0.2524 - accuracy: 0.8972\n",
            "Test loss: 0.2757, Test accuracy: 0.8913\n"
          ]
        }
      ]
    },
    {
      "cell_type": "code",
      "source": [
        "pred_data = [[48,0,0,138,214,0,1,108,1,1.5,1]] #for taking the predictions.\n",
        "pred_data = sc.transform(pred_data)\n",
        "pred = model.predict(pred_data)[0]\n",
        "print(round(pred[0]))"
      ],
      "metadata": {
        "colab": {
          "base_uri": "https://localhost:8080/"
        },
        "id": "aUpN_mvC_EsO",
        "outputId": "f7fee372-fb85-427d-d9ca-84776b02305c"
      },
      "execution_count": null,
      "outputs": [
        {
          "output_type": "stream",
          "name": "stdout",
          "text": [
            "1/1 [==============================] - 0s 24ms/step\n",
            "1\n"
          ]
        }
      ]
    },
    {
      "cell_type": "code",
      "source": [],
      "metadata": {
        "id": "lmXU-HvasUij"
      },
      "execution_count": null,
      "outputs": []
    }
  ]
}